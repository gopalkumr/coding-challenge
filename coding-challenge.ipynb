{
    "metadata": {
        "kernelspec": {
            "name": "SQL",
            "display_name": "SQL",
            "language": "sql"
        },
        "language_info": {
            "name": "sql",
            "version": ""
        }
    },
    "nbformat_minor": 2,
    "nbformat": 4,
    "cells": [
        {
            "cell_type": "code",
            "source": [
                "use challenge"
            ],
            "metadata": {
                "azdata_cell_guid": "08fb5b4c-f435-42a3-a7ed-f8612ba01b8b",
                "language": "sql"
            },
            "outputs": [
                {
                    "output_type": "display_data",
                    "data": {
                        "text/html": "Commands completed successfully."
                    },
                    "metadata": {}
                },
                {
                    "output_type": "display_data",
                    "data": {
                        "text/html": "Total execution time: 00:00:00.001"
                    },
                    "metadata": {}
                }
            ],
            "execution_count": 1
        },
        {
            "cell_type": "code",
            "source": [
                "-- Crime table\n",
                "CREATE TABLE Crime (\n",
                "    CrimeID INT PRIMARY KEY,\n",
                "    IncidentType VARCHAR(255),\n",
                "    IncidentDate DATE,\n",
                "    Location VARCHAR(255),\n",
                "    Description TEXT,\n",
                "    Status VARCHAR(20)\n",
                ");\n",
                "\n",
                "--  Victim table\n",
                "CREATE TABLE Victim (\n",
                "    VictimID INT PRIMARY KEY,\n",
                "    CrimeID INT,\n",
                "    Name VARCHAR(255),\n",
                "    ContactInfo VARCHAR(255),\n",
                "    Injuries VARCHAR(255),\n",
                "    Age INT,\n",
                "    FOREIGN KEY (CrimeID) REFERENCES Crime(CrimeID)\n",
                ");\n",
                "\n",
                "--  Suspect table\n",
                "CREATE TABLE Suspect (\n",
                "    SuspectID INT PRIMARY KEY,\n",
                "    CrimeID INT,\n",
                "    Name VARCHAR(255),\n",
                "    Description TEXT,\n",
                "    CriminalHistory TEXT,\n",
                "    Age INT,\n",
                "    FOREIGN KEY (CrimeID) REFERENCES Crime(CrimeID)\n",
                ");"
            ],
            "metadata": {
                "azdata_cell_guid": "c509d08e-4bb4-4312-a56a-d710b93b716e",
                "language": "sql"
            },
            "outputs": [
                {
                    "output_type": "display_data",
                    "data": {
                        "text/html": "Commands completed successfully."
                    },
                    "metadata": {}
                },
                {
                    "output_type": "display_data",
                    "data": {
                        "text/html": "Total execution time: 00:00:00.045"
                    },
                    "metadata": {}
                }
            ],
            "execution_count": 2
        },
        {
            "cell_type": "code",
            "source": [
                "INSERT INTO Crime (CrimeID, IncidentType, IncidentDate, Location, Description, Status)\n",
                "VALUES\n",
                "(1, 'Robbery', '2023-09-15', '123 Main St, Cityville', 'Armed robbery at a convenience store', 'Open'),\n",
                "(2, 'Homicide', '2023-09-20', '456 Elm St, Townsville', 'Investigation into a murder case', 'Under Investigation'),\n",
                "(3, 'Theft', '2023-09-10', '789 Oak St, Villagetown', 'Shoplifting incident at a mall', 'Closed');\n",
                "\n",
                "-- Insert into Suspect\n",
                "INSERT INTO Suspect (SuspectID, CrimeID, Name, Description, CriminalHistory)\n",
                "VALUES\n",
                "(1, 1, 'Robber 1', 'Armed and masked robber', 'Previous robbery convictions'),\n",
                "(2, 2, 'Unknown', 'Investigation ongoing', NULL),\n",
                "(3, 3, 'Suspect 1', 'Shoplifting suspect', 'Prior shoplifting arrests');\n",
                "\n",
                "\n",
                ""
            ],
            "metadata": {
                "azdata_cell_guid": "16f40ea6-ea3f-43c4-bbce-c42bb5fca615",
                "language": "sql"
            },
            "outputs": [
                {
                    "output_type": "display_data",
                    "data": {
                        "text/html": "(3 rows affected)"
                    },
                    "metadata": {}
                },
                {
                    "output_type": "display_data",
                    "data": {
                        "text/html": "(2 rows affected)"
                    },
                    "metadata": {}
                },
                {
                    "output_type": "display_data",
                    "data": {
                        "text/html": "(3 rows affected)"
                    },
                    "metadata": {}
                },
                {
                    "output_type": "display_data",
                    "data": {
                        "text/html": "Total execution time: 00:00:00.064"
                    },
                    "metadata": {}
                }
            ],
            "execution_count": 12
        },
        {
            "cell_type": "code",
            "source": [
                "-- Insert into Victim\n",
                "INSERT INTO Victim (VictimID, CrimeID, Name, ContactInfo, Injuries)\n",
                "VALUES\n",
                "(1, 1, 'John Doe', 'johndoe@example.com', 'Minor injuries'),\n",
                "(2, 2, 'Jane Smith', 'janesmith@example.com', 'Deceased'),\n",
                "(3, 3, 'Alice Johnson', 'alicejohnson@example.com', 'None');"
            ],
            "metadata": {
                "azdata_cell_guid": "b18d6e4c-de42-4cac-91db-595122bd9d1d",
                "language": "sql"
            },
            "outputs": [
                {
                    "output_type": "display_data",
                    "data": {
                        "text/html": "(3 rows affected)"
                    },
                    "metadata": {}
                },
                {
                    "output_type": "display_data",
                    "data": {
                        "text/html": "Total execution time: 00:00:00.050"
                    },
                    "metadata": {}
                }
            ],
            "execution_count": 37
        },
        {
            "cell_type": "code",
            "source": [
                "-- question 1: Select all open incidents.\n",
                "select IncidentType, IncidentDate from Crime where Status= 'Open'"
            ],
            "metadata": {
                "azdata_cell_guid": "a98873ca-39b8-47ca-8052-ff1813cf0582",
                "language": "sql"
            },
            "outputs": [
                {
                    "output_type": "display_data",
                    "data": {
                        "text/html": "(1 row affected)"
                    },
                    "metadata": {}
                },
                {
                    "output_type": "display_data",
                    "data": {
                        "text/html": "Total execution time: 00:00:00.011"
                    },
                    "metadata": {}
                },
                {
                    "output_type": "execute_result",
                    "metadata": {},
                    "execution_count": 38,
                    "data": {
                        "application/vnd.dataresource+json": {
                            "schema": {
                                "fields": [
                                    {
                                        "name": "IncidentType"
                                    },
                                    {
                                        "name": "IncidentDate"
                                    }
                                ]
                            },
                            "data": [
                                {
                                    "IncidentType": "Robbery",
                                    "IncidentDate": "2023-09-15"
                                }
                            ]
                        },
                        "text/html": [
                            "<table>",
                            "<tr><th>IncidentType</th><th>IncidentDate</th></tr>",
                            "<tr><td>Robbery</td><td>2023-09-15</td></tr>",
                            "</table>"
                        ]
                    }
                }
            ],
            "execution_count": 38
        },
        {
            "cell_type": "code",
            "source": [
                "-- question 2: Find the total number of incidents.\n",
                "select sum(CrimeID) as totalnumberofIncident from crime "
            ],
            "metadata": {
                "language": "sql",
                "azdata_cell_guid": "9e6ac09d-1bb8-438d-ad09-4956fc637c6f"
            },
            "outputs": [
                {
                    "output_type": "display_data",
                    "data": {
                        "text/html": "(1 row affected)"
                    },
                    "metadata": {}
                },
                {
                    "output_type": "display_data",
                    "data": {
                        "text/html": "Total execution time: 00:00:00.005"
                    },
                    "metadata": {}
                },
                {
                    "output_type": "execute_result",
                    "metadata": {},
                    "execution_count": 39,
                    "data": {
                        "application/vnd.dataresource+json": {
                            "schema": {
                                "fields": [
                                    {
                                        "name": "totalnumberofIncident"
                                    }
                                ]
                            },
                            "data": [
                                {
                                    "totalnumberofIncident": "6"
                                }
                            ]
                        },
                        "text/html": [
                            "<table>",
                            "<tr><th>totalnumberofIncident</th></tr>",
                            "<tr><td>6</td></tr>",
                            "</table>"
                        ]
                    }
                }
            ],
            "execution_count": 39
        },
        {
            "cell_type": "code",
            "source": [
                "-- question 3: List all unique incident type \n",
                "SELECT DISTINCT IncidentType\n",
                "FROM Crime;"
            ],
            "metadata": {
                "language": "sql",
                "azdata_cell_guid": "31032a4b-29a5-4368-a0b1-985270483e49",
                "tags": []
            },
            "outputs": [
                {
                    "output_type": "display_data",
                    "data": {
                        "text/html": "(3 rows affected)"
                    },
                    "metadata": {}
                },
                {
                    "output_type": "display_data",
                    "data": {
                        "text/html": "Total execution time: 00:00:00.005"
                    },
                    "metadata": {}
                },
                {
                    "output_type": "execute_result",
                    "metadata": {},
                    "execution_count": 40,
                    "data": {
                        "application/vnd.dataresource+json": {
                            "schema": {
                                "fields": [
                                    {
                                        "name": "IncidentType"
                                    }
                                ]
                            },
                            "data": [
                                {
                                    "IncidentType": "Homicide"
                                },
                                {
                                    "IncidentType": "Robbery"
                                },
                                {
                                    "IncidentType": "Theft"
                                }
                            ]
                        },
                        "text/html": [
                            "<table>",
                            "<tr><th>IncidentType</th></tr>",
                            "<tr><td>Homicide</td></tr>",
                            "<tr><td>Robbery</td></tr>",
                            "<tr><td>Theft</td></tr>",
                            "</table>"
                        ]
                    }
                }
            ],
            "execution_count": 40
        },
        {
            "cell_type": "code",
            "source": [
                "-- question4: Retrieve incidents between '2023-09-01' and '2023-09-10'.\n",
                "SELECT *\n",
                "FROM Crime\n",
                "WHERE IncidentDate BETWEEN '2023-09-01' AND '2023-09-10';\n",
                ""
            ],
            "metadata": {
                "language": "sql",
                "azdata_cell_guid": "06f5e8f2-912a-4ead-a0b1-597838f0c45c"
            },
            "outputs": [
                {
                    "output_type": "display_data",
                    "data": {
                        "text/html": "(1 row affected)"
                    },
                    "metadata": {}
                },
                {
                    "output_type": "display_data",
                    "data": {
                        "text/html": "Total execution time: 00:00:00.016"
                    },
                    "metadata": {}
                },
                {
                    "output_type": "execute_result",
                    "metadata": {},
                    "execution_count": 45,
                    "data": {
                        "application/vnd.dataresource+json": {
                            "schema": {
                                "fields": [
                                    {
                                        "name": "CrimeID"
                                    },
                                    {
                                        "name": "IncidentType"
                                    },
                                    {
                                        "name": "IncidentDate"
                                    },
                                    {
                                        "name": "Location"
                                    },
                                    {
                                        "name": "Description"
                                    },
                                    {
                                        "name": "Status"
                                    }
                                ]
                            },
                            "data": [
                                {
                                    "CrimeID": "3",
                                    "IncidentType": "Theft",
                                    "IncidentDate": "2023-09-10",
                                    "Location": "789 Oak St, Villagetown",
                                    "Description": "Shoplifting incident at a mall",
                                    "Status": "Closed"
                                }
                            ]
                        },
                        "text/html": [
                            "<table>",
                            "<tr><th>CrimeID</th><th>IncidentType</th><th>IncidentDate</th><th>Location</th><th>Description</th><th>Status</th></tr>",
                            "<tr><td>3</td><td>Theft</td><td>2023-09-10</td><td>789 Oak St, Villagetown</td><td>Shoplifting incident at a mall</td><td>Closed</td></tr>",
                            "</table>"
                        ]
                    }
                }
            ],
            "execution_count": 45
        },
        {
            "cell_type": "code",
            "source": [
                "-- question5: List persons involved (victims) in descending order of age.\n",
                "select Name from Victim \n",
                "order by Age desc "
            ],
            "metadata": {
                "azdata_cell_guid": "ddbc782c-fbc9-4868-a46b-b4dafe66c025",
                "language": "sql"
            },
            "outputs": [
                {
                    "output_type": "display_data",
                    "data": {
                        "text/html": "(3 rows affected)"
                    },
                    "metadata": {}
                },
                {
                    "output_type": "display_data",
                    "data": {
                        "text/html": "Total execution time: 00:00:00.004"
                    },
                    "metadata": {}
                },
                {
                    "output_type": "execute_result",
                    "metadata": {},
                    "execution_count": 46,
                    "data": {
                        "application/vnd.dataresource+json": {
                            "schema": {
                                "fields": [
                                    {
                                        "name": "Name"
                                    }
                                ]
                            },
                            "data": [
                                {
                                    "Name": "John Doe"
                                },
                                {
                                    "Name": "Jane Smith"
                                },
                                {
                                    "Name": "Alice Johnson"
                                }
                            ]
                        },
                        "text/html": [
                            "<table>",
                            "<tr><th>Name</th></tr>",
                            "<tr><td>John Doe</td></tr>",
                            "<tr><td>Jane Smith</td></tr>",
                            "<tr><td>Alice Johnson</td></tr>",
                            "</table>"
                        ]
                    }
                }
            ],
            "execution_count": 46
        },
        {
            "cell_type": "code",
            "source": [
                "--question6: find avarage age of the person involve in the incident \n",
                "select Name, AVG(age) as avarageAge from Victim \n",
                "group by Name \n",
                ""
            ],
            "metadata": {
                "language": "sql",
                "azdata_cell_guid": "dca4ed6c-3341-4b1b-b81c-6da944780642"
            },
            "outputs": [
                {
                    "output_type": "display_data",
                    "data": {
                        "text/html": "Warning: Null value is eliminated by an aggregate or other SET operation."
                    },
                    "metadata": {}
                },
                {
                    "output_type": "display_data",
                    "data": {
                        "text/html": "(3 rows affected)"
                    },
                    "metadata": {}
                },
                {
                    "output_type": "display_data",
                    "data": {
                        "text/html": "Total execution time: 00:00:00.007"
                    },
                    "metadata": {}
                },
                {
                    "output_type": "execute_result",
                    "metadata": {},
                    "execution_count": 47,
                    "data": {
                        "application/vnd.dataresource+json": {
                            "schema": {
                                "fields": [
                                    {
                                        "name": "Name"
                                    },
                                    {
                                        "name": "avarageAge"
                                    }
                                ]
                            },
                            "data": [
                                {
                                    "Name": "Alice Johnson",
                                    "avarageAge": "NULL"
                                },
                                {
                                    "Name": "Jane Smith",
                                    "avarageAge": "NULL"
                                },
                                {
                                    "Name": "John Doe",
                                    "avarageAge": "NULL"
                                }
                            ]
                        },
                        "text/html": [
                            "<table>",
                            "<tr><th>Name</th><th>avarageAge</th></tr>",
                            "<tr><td>Alice Johnson</td><td>NULL</td></tr>",
                            "<tr><td>Jane Smith</td><td>NULL</td></tr>",
                            "<tr><td>John Doe</td><td>NULL</td></tr>",
                            "</table>"
                        ]
                    }
                }
            ],
            "execution_count": 47
        },
        {
            "cell_type": "code",
            "source": [
                "-- question7: List incident types and their counts (only for open cases).\n",
                "select IncidentType, Count(*) as count from Crime where status='open'\n",
                "group by IncidentType"
            ],
            "metadata": {
                "azdata_cell_guid": "2d566e48-4e88-44e9-8273-b8788e3d01eb",
                "language": "sql"
            },
            "outputs": [
                {
                    "output_type": "display_data",
                    "data": {
                        "text/html": "(1 row affected)"
                    },
                    "metadata": {}
                },
                {
                    "output_type": "display_data",
                    "data": {
                        "text/html": "Total execution time: 00:00:00.004"
                    },
                    "metadata": {}
                },
                {
                    "output_type": "execute_result",
                    "metadata": {},
                    "execution_count": 48,
                    "data": {
                        "application/vnd.dataresource+json": {
                            "schema": {
                                "fields": [
                                    {
                                        "name": "IncidentType"
                                    },
                                    {
                                        "name": "count"
                                    }
                                ]
                            },
                            "data": [
                                {
                                    "IncidentType": "Robbery",
                                    "count": "1"
                                }
                            ]
                        },
                        "text/html": [
                            "<table>",
                            "<tr><th>IncidentType</th><th>count</th></tr>",
                            "<tr><td>Robbery</td><td>1</td></tr>",
                            "</table>"
                        ]
                    }
                }
            ],
            "execution_count": 48
        },
        {
            "cell_type": "code",
            "source": [
                "UPDATE Victim\n",
                "SET Name = 'John Doe',\n",
                "    ContactInfo = 'janesmith@example.com'\n",
                "WHERE VictimID = 1;"
            ],
            "metadata": {
                "language": "sql",
                "azdata_cell_guid": "6017b129-ac42-4d4f-9de5-8342c1615a2e",
                "tags": []
            },
            "outputs": [
                {
                    "output_type": "display_data",
                    "data": {
                        "text/html": "(1 row affected)"
                    },
                    "metadata": {}
                },
                {
                    "output_type": "display_data",
                    "data": {
                        "text/html": "Total execution time: 00:00:00.109"
                    },
                    "metadata": {}
                }
            ],
            "execution_count": 64
        },
        {
            "cell_type": "code",
            "source": [
                "select *from Victim"
            ],
            "metadata": {
                "azdata_cell_guid": "3c309b4f-2c4b-4823-a06a-21e31169c25e",
                "language": "sql"
            },
            "outputs": [
                {
                    "output_type": "display_data",
                    "data": {
                        "text/html": "(3 rows affected)"
                    },
                    "metadata": {}
                },
                {
                    "output_type": "display_data",
                    "data": {
                        "text/html": "Total execution time: 00:00:00.054"
                    },
                    "metadata": {}
                },
                {
                    "output_type": "execute_result",
                    "metadata": {},
                    "execution_count": 63,
                    "data": {
                        "application/vnd.dataresource+json": {
                            "schema": {
                                "fields": [
                                    {
                                        "name": "VictimID"
                                    },
                                    {
                                        "name": "CrimeID"
                                    },
                                    {
                                        "name": "Name"
                                    },
                                    {
                                        "name": "ContactInfo"
                                    },
                                    {
                                        "name": "Injuries"
                                    },
                                    {
                                        "name": "Age"
                                    }
                                ]
                            },
                            "data": [
                                {
                                    "VictimID": "1",
                                    "CrimeID": "1",
                                    "Name": "PeterDoe",
                                    "ContactInfo": "Peter.D@example.com",
                                    "Injuries": "Minor injuries",
                                    "Age": "NULL"
                                },
                                {
                                    "VictimID": "2",
                                    "CrimeID": "2",
                                    "Name": "Jane Smith",
                                    "ContactInfo": "janesmith@example.com",
                                    "Injuries": "Deceased",
                                    "Age": "NULL"
                                },
                                {
                                    "VictimID": "3",
                                    "CrimeID": "3",
                                    "Name": "Alice Johnson",
                                    "ContactInfo": "alicejohnson@example.com",
                                    "Injuries": "None",
                                    "Age": "NULL"
                                }
                            ]
                        },
                        "text/html": [
                            "<table>",
                            "<tr><th>VictimID</th><th>CrimeID</th><th>Name</th><th>ContactInfo</th><th>Injuries</th><th>Age</th></tr>",
                            "<tr><td>1</td><td>1</td><td>PeterDoe</td><td>Peter.D@example.com</td><td>Minor injuries</td><td>NULL</td></tr>",
                            "<tr><td>2</td><td>2</td><td>Jane Smith</td><td>janesmith@example.com</td><td>Deceased</td><td>NULL</td></tr>",
                            "<tr><td>3</td><td>3</td><td>Alice Johnson</td><td>alicejohnson@example.com</td><td>None</td><td>NULL</td></tr>",
                            "</table>"
                        ]
                    }
                }
            ],
            "execution_count": 63
        },
        {
            "cell_type": "code",
            "source": [
                "-- question8: find person name containing doe \n",
                "select Name from Victim where Name like '%doe%';"
            ],
            "metadata": {
                "language": "sql",
                "azdata_cell_guid": "6d4513ea-427b-4713-8403-ebe0e7a0c6b6"
            },
            "outputs": [
                {
                    "output_type": "display_data",
                    "data": {
                        "text/html": "(1 row affected)"
                    },
                    "metadata": {}
                },
                {
                    "output_type": "display_data",
                    "data": {
                        "text/html": "Total execution time: 00:00:00.012"
                    },
                    "metadata": {}
                },
                {
                    "output_type": "execute_result",
                    "metadata": {},
                    "execution_count": 50,
                    "data": {
                        "application/vnd.dataresource+json": {
                            "schema": {
                                "fields": [
                                    {
                                        "name": "Name"
                                    }
                                ]
                            },
                            "data": [
                                {
                                    "Name": "PeterDoe"
                                }
                            ]
                        },
                        "text/html": [
                            "<table>",
                            "<tr><th>Name</th></tr>",
                            "<tr><td>PeterDoe</td></tr>",
                            "</table>"
                        ]
                    }
                }
            ],
            "execution_count": 50
        },
        {
            "cell_type": "code",
            "source": [
                "--question9: Retrieve the names of persons in open and closed cases.\n",
                "\n",
                "SELECT s.Name, c.Status\n",
                "FROM Crime c\n",
                "JOIN Suspect s ON s.CrimeID = c.CrimeID\n",
                "WHERE c.Status = 'Open' OR c.Status = 'Closed';\n",
                ""
            ],
            "metadata": {
                "language": "sql",
                "azdata_cell_guid": "afff5040-e51f-4f9a-85e5-4067284a4676"
            },
            "outputs": [
                {
                    "output_type": "display_data",
                    "data": {
                        "text/html": "(2 rows affected)"
                    },
                    "metadata": {}
                },
                {
                    "output_type": "display_data",
                    "data": {
                        "text/html": "Total execution time: 00:00:00.006"
                    },
                    "metadata": {}
                },
                {
                    "output_type": "execute_result",
                    "metadata": {},
                    "execution_count": 51,
                    "data": {
                        "application/vnd.dataresource+json": {
                            "schema": {
                                "fields": [
                                    {
                                        "name": "Name"
                                    },
                                    {
                                        "name": "Status"
                                    }
                                ]
                            },
                            "data": [
                                {
                                    "Name": "Robber 1",
                                    "Status": "Open"
                                },
                                {
                                    "Name": "Suspect 1",
                                    "Status": "Closed"
                                }
                            ]
                        },
                        "text/html": [
                            "<table>",
                            "<tr><th>Name</th><th>Status</th></tr>",
                            "<tr><td>Robber 1</td><td>Open</td></tr>",
                            "<tr><td>Suspect 1</td><td>Closed</td></tr>",
                            "</table>"
                        ]
                    }
                }
            ],
            "execution_count": 51
        },
        {
            "cell_type": "code",
            "source": [
                "-- question10: List incident types where there are persons aged 30 or 35 involved.\n",
                "\n",
                "select c.Incidenttype, s.Age from Crime c \n",
                "join Suspect s on c.CrimeID = s.CrimeID\n",
                "where s.age between 30 and 35\n",
                "\n",
                ""
            ],
            "metadata": {
                "language": "sql",
                "azdata_cell_guid": "5740a2f7-5204-4ca2-9df3-cb46fdbfaca2"
            },
            "outputs": [
                {
                    "output_type": "display_data",
                    "data": {
                        "text/html": "(0 rows affected)"
                    },
                    "metadata": {}
                },
                {
                    "output_type": "display_data",
                    "data": {
                        "text/html": "Total execution time: 00:00:00.004"
                    },
                    "metadata": {}
                },
                {
                    "output_type": "execute_result",
                    "metadata": {},
                    "execution_count": 52,
                    "data": {
                        "application/vnd.dataresource+json": {
                            "schema": {
                                "fields": [
                                    {
                                        "name": "Incidenttype"
                                    },
                                    {
                                        "name": "Age"
                                    }
                                ]
                            },
                            "data": []
                        },
                        "text/html": [
                            "<table>",
                            "<tr><th>Incidenttype</th><th>Age</th></tr>",
                            "</table>"
                        ]
                    }
                }
            ],
            "execution_count": 52
        },
        {
            "cell_type": "code",
            "source": [
                "-- question 11 : Find persons involved in same type of incident as ‘Robbery’.\n",
                "select Name from Suspect \n",
                "where Description like '%Robbery%'\n",
                "\n",
                ""
            ],
            "metadata": {
                "language": "sql",
                "azdata_cell_guid": "7b0250ab-a7ab-4989-a90b-463ce1c09335"
            },
            "outputs": [
                {
                    "output_type": "display_data",
                    "data": {
                        "text/html": "(0 rows affected)"
                    },
                    "metadata": {}
                },
                {
                    "output_type": "display_data",
                    "data": {
                        "text/html": "Total execution time: 00:00:00.004"
                    },
                    "metadata": {}
                },
                {
                    "output_type": "execute_result",
                    "metadata": {},
                    "execution_count": 53,
                    "data": {
                        "application/vnd.dataresource+json": {
                            "schema": {
                                "fields": [
                                    {
                                        "name": "Name"
                                    }
                                ]
                            },
                            "data": []
                        },
                        "text/html": [
                            "<table>",
                            "<tr><th>Name</th></tr>",
                            "</table>"
                        ]
                    }
                }
            ],
            "execution_count": 53
        },
        {
            "cell_type": "code",
            "source": [
                "-- q12: List incident types with more than one open case.\n",
                "select IncidentType, COUNT(*) AS OpenCaseCount\n",
                "from Crime\n",
                "where Status = 'Open'\n",
                "group BY IncidentType\n",
                "having COUNT(*) > 1;"
            ],
            "metadata": {
                "language": "sql",
                "azdata_cell_guid": "2037f508-82ad-432f-adea-d51ad24d7da3"
            },
            "outputs": [
                {
                    "output_type": "display_data",
                    "data": {
                        "text/html": "(0 rows affected)"
                    },
                    "metadata": {}
                },
                {
                    "output_type": "display_data",
                    "data": {
                        "text/html": "Total execution time: 00:00:00.006"
                    },
                    "metadata": {}
                },
                {
                    "output_type": "execute_result",
                    "metadata": {},
                    "execution_count": 54,
                    "data": {
                        "application/vnd.dataresource+json": {
                            "schema": {
                                "fields": [
                                    {
                                        "name": "IncidentType"
                                    },
                                    {
                                        "name": "OpenCaseCount"
                                    }
                                ]
                            },
                            "data": []
                        },
                        "text/html": [
                            "<table>",
                            "<tr><th>IncidentType</th><th>OpenCaseCount</th></tr>",
                            "</table>"
                        ]
                    }
                }
            ],
            "execution_count": 54
        },
        {
            "cell_type": "code",
            "source": [
                "-- question13: List incidents with suspects who are also victims elsewhere\n",
                "\n",
                "select distinct c.CrimeID, c.IncidentType, s.Name AS SuspectVictimName\n",
                "from Crime c\n",
                "join Suspect s ON c.CrimeID = s.CrimeID\n",
                "join Victim v ON s.Name = v.Name \n",
                "\n",
                ""
            ],
            "metadata": {
                "azdata_cell_guid": "67e4cb47-2c94-4990-a5a5-00f53a27431b",
                "language": "sql"
            },
            "outputs": [
                {
                    "output_type": "display_data",
                    "data": {
                        "text/html": "(0 rows affected)"
                    },
                    "metadata": {}
                },
                {
                    "output_type": "display_data",
                    "data": {
                        "text/html": "Total execution time: 00:00:00.005"
                    },
                    "metadata": {}
                },
                {
                    "output_type": "execute_result",
                    "metadata": {},
                    "execution_count": 55,
                    "data": {
                        "application/vnd.dataresource+json": {
                            "schema": {
                                "fields": [
                                    {
                                        "name": "CrimeID"
                                    },
                                    {
                                        "name": "IncidentType"
                                    },
                                    {
                                        "name": "SuspectVictimName"
                                    }
                                ]
                            },
                            "data": []
                        },
                        "text/html": [
                            "<table>",
                            "<tr><th>CrimeID</th><th>IncidentType</th><th>SuspectVictimName</th></tr>",
                            "</table>"
                        ]
                    }
                }
            ],
            "execution_count": 55
        },
        {
            "cell_type": "code",
            "source": [
                "--question14: 14. Retrieve all incidents with victim and suspect details\n",
                "SELECT c.CrimeID, c.IncidentType, c.Location, c.Status,\n",
                "       v.Name AS VictimName, v.Age AS VictimAge,\n",
                "       s.Name AS SuspectName, s.Age AS SuspectAge\n",
                "FROM Crime c\n",
                "LEFT JOIN Victim v ON c.CrimeID = v.CrimeID\n",
                "LEFT JOIN Suspect s ON c.CrimeID = s.CrimeID;"
            ],
            "metadata": {
                "language": "sql",
                "azdata_cell_guid": "d1a937be-00bb-4891-bd35-d5373504f2d6"
            },
            "outputs": [
                {
                    "output_type": "display_data",
                    "data": {
                        "text/html": "(3 rows affected)"
                    },
                    "metadata": {}
                },
                {
                    "output_type": "display_data",
                    "data": {
                        "text/html": "Total execution time: 00:00:00.008"
                    },
                    "metadata": {}
                },
                {
                    "output_type": "execute_result",
                    "metadata": {},
                    "execution_count": 56,
                    "data": {
                        "application/vnd.dataresource+json": {
                            "schema": {
                                "fields": [
                                    {
                                        "name": "CrimeID"
                                    },
                                    {
                                        "name": "IncidentType"
                                    },
                                    {
                                        "name": "Location"
                                    },
                                    {
                                        "name": "Status"
                                    },
                                    {
                                        "name": "VictimName"
                                    },
                                    {
                                        "name": "VictimAge"
                                    },
                                    {
                                        "name": "SuspectName"
                                    },
                                    {
                                        "name": "SuspectAge"
                                    }
                                ]
                            },
                            "data": [
                                {
                                    "CrimeID": "1",
                                    "IncidentType": "Robbery",
                                    "Location": "123 Main St, Cityville",
                                    "Status": "Open",
                                    "VictimName": "PeterDoe",
                                    "VictimAge": "NULL",
                                    "SuspectName": "Robber 1",
                                    "SuspectAge": "NULL"
                                },
                                {
                                    "CrimeID": "2",
                                    "IncidentType": "Homicide",
                                    "Location": "456 Elm St, Townsville",
                                    "Status": "Under Investigation",
                                    "VictimName": "Jane Smith",
                                    "VictimAge": "NULL",
                                    "SuspectName": "Unknown",
                                    "SuspectAge": "NULL"
                                },
                                {
                                    "CrimeID": "3",
                                    "IncidentType": "Theft",
                                    "Location": "789 Oak St, Villagetown",
                                    "Status": "Closed",
                                    "VictimName": "Alice Johnson",
                                    "VictimAge": "NULL",
                                    "SuspectName": "Suspect 1",
                                    "SuspectAge": "NULL"
                                }
                            ]
                        },
                        "text/html": [
                            "<table>",
                            "<tr><th>CrimeID</th><th>IncidentType</th><th>Location</th><th>Status</th><th>VictimName</th><th>VictimAge</th><th>SuspectName</th><th>SuspectAge</th></tr>",
                            "<tr><td>1</td><td>Robbery</td><td>123 Main St, Cityville</td><td>Open</td><td>PeterDoe</td><td>NULL</td><td>Robber 1</td><td>NULL</td></tr>",
                            "<tr><td>2</td><td>Homicide</td><td>456 Elm St, Townsville</td><td>Under Investigation</td><td>Jane Smith</td><td>NULL</td><td>Unknown</td><td>NULL</td></tr>",
                            "<tr><td>3</td><td>Theft</td><td>789 Oak St, Villagetown</td><td>Closed</td><td>Alice Johnson</td><td>NULL</td><td>Suspect 1</td><td>NULL</td></tr>",
                            "</table>"
                        ]
                    }
                }
            ],
            "execution_count": 56
        },
        {
            "cell_type": "code",
            "source": [
                "-- 15. Find incidents where suspect is older than any victim\n",
                "\n",
                "select DISTINCT c.CrimeID, c.IncidentType, s.Name AS SuspectName, s.Age AS SuspectAge\n",
                "FROM Crime c\n",
                "JOIN Suspect s ON c.CrimeID = s.CrimeID\n",
                "WHERE s.Age > ALL (\n",
                "    SELECT v.Age FROM Victim v WHERE v.CrimeID = c.CrimeID\n",
                ");"
            ],
            "metadata": {
                "language": "sql",
                "azdata_cell_guid": "2d528e6a-e14f-41df-ad27-7e2c8306276d",
                "tags": []
            },
            "outputs": [
                {
                    "output_type": "display_data",
                    "data": {
                        "text/html": "(0 rows affected)"
                    },
                    "metadata": {}
                },
                {
                    "output_type": "display_data",
                    "data": {
                        "text/html": "Total execution time: 00:00:00.016"
                    },
                    "metadata": {}
                },
                {
                    "output_type": "execute_result",
                    "metadata": {},
                    "execution_count": 57,
                    "data": {
                        "application/vnd.dataresource+json": {
                            "schema": {
                                "fields": [
                                    {
                                        "name": "CrimeID"
                                    },
                                    {
                                        "name": "IncidentType"
                                    },
                                    {
                                        "name": "SuspectName"
                                    },
                                    {
                                        "name": "SuspectAge"
                                    }
                                ]
                            },
                            "data": []
                        },
                        "text/html": [
                            "<table>",
                            "<tr><th>CrimeID</th><th>IncidentType</th><th>SuspectName</th><th>SuspectAge</th></tr>",
                            "</table>"
                        ]
                    }
                }
            ],
            "execution_count": 57
        },
        {
            "cell_type": "code",
            "source": [
                "-- 16: Find suspects involved in multiple incidents\n",
                "\n",
                "SELECT Name, COUNT(*) AS IncidentCount\n",
                "FROM Suspect\n",
                "GROUP BY Name\n",
                "HAVING COUNT(*) > 1;"
            ],
            "metadata": {
                "language": "sql",
                "azdata_cell_guid": "8855404b-026c-4664-9b9f-e3313711b76f"
            },
            "outputs": [
                {
                    "output_type": "display_data",
                    "data": {
                        "text/html": "(0 rows affected)"
                    },
                    "metadata": {}
                },
                {
                    "output_type": "display_data",
                    "data": {
                        "text/html": "Total execution time: 00:00:00.008"
                    },
                    "metadata": {}
                },
                {
                    "output_type": "execute_result",
                    "metadata": {},
                    "execution_count": 58,
                    "data": {
                        "application/vnd.dataresource+json": {
                            "schema": {
                                "fields": [
                                    {
                                        "name": "Name"
                                    },
                                    {
                                        "name": "IncidentCount"
                                    }
                                ]
                            },
                            "data": []
                        },
                        "text/html": [
                            "<table>",
                            "<tr><th>Name</th><th>IncidentCount</th></tr>",
                            "</table>"
                        ]
                    }
                }
            ],
            "execution_count": 58
        },
        {
            "cell_type": "code",
            "source": [
                "-- 17:. List incidents with no suspects\n",
                "select c.*\n",
                "from Crime c\n",
                "left join Suspect s ON c.CrimeID = s.CrimeID\n",
                "WHERE s.SuspectID IS NULL;"
            ],
            "metadata": {
                "language": "sql",
                "azdata_cell_guid": "8fce0e36-2668-4679-8504-47a2c3c1301f",
                "tags": []
            },
            "outputs": [
                {
                    "output_type": "display_data",
                    "data": {
                        "text/html": "(0 rows affected)"
                    },
                    "metadata": {}
                },
                {
                    "output_type": "display_data",
                    "data": {
                        "text/html": "Total execution time: 00:00:00.014"
                    },
                    "metadata": {}
                },
                {
                    "output_type": "execute_result",
                    "metadata": {},
                    "execution_count": 59,
                    "data": {
                        "application/vnd.dataresource+json": {
                            "schema": {
                                "fields": [
                                    {
                                        "name": "CrimeID"
                                    },
                                    {
                                        "name": "IncidentType"
                                    },
                                    {
                                        "name": "IncidentDate"
                                    },
                                    {
                                        "name": "Location"
                                    },
                                    {
                                        "name": "Description"
                                    },
                                    {
                                        "name": "Status"
                                    }
                                ]
                            },
                            "data": []
                        },
                        "text/html": [
                            "<table>",
                            "<tr><th>CrimeID</th><th>IncidentType</th><th>IncidentDate</th><th>Location</th><th>Description</th><th>Status</th></tr>",
                            "</table>"
                        ]
                    }
                }
            ],
            "execution_count": 59
        },
        {
            "cell_type": "code",
            "source": [
                "--question18:  List all cases where one is Homicide and others are Robbery\n",
                "select *\n",
                "from Crime\n",
                "where IncidentType in ('Homicide', 'Robbery');"
            ],
            "metadata": {
                "language": "sql",
                "azdata_cell_guid": "f5f56988-2988-46ef-97f9-133c3783e460"
            },
            "outputs": [
                {
                    "output_type": "display_data",
                    "data": {
                        "text/html": "(2 rows affected)"
                    },
                    "metadata": {}
                },
                {
                    "output_type": "display_data",
                    "data": {
                        "text/html": "Total execution time: 00:00:00.004"
                    },
                    "metadata": {}
                },
                {
                    "output_type": "execute_result",
                    "metadata": {},
                    "execution_count": 60,
                    "data": {
                        "application/vnd.dataresource+json": {
                            "schema": {
                                "fields": [
                                    {
                                        "name": "CrimeID"
                                    },
                                    {
                                        "name": "IncidentType"
                                    },
                                    {
                                        "name": "IncidentDate"
                                    },
                                    {
                                        "name": "Location"
                                    },
                                    {
                                        "name": "Description"
                                    },
                                    {
                                        "name": "Status"
                                    }
                                ]
                            },
                            "data": [
                                {
                                    "CrimeID": "1",
                                    "IncidentType": "Robbery",
                                    "IncidentDate": "2023-09-15",
                                    "Location": "123 Main St, Cityville",
                                    "Description": "Armed robbery at a convenience store",
                                    "Status": "Open"
                                },
                                {
                                    "CrimeID": "2",
                                    "IncidentType": "Homicide",
                                    "IncidentDate": "2023-09-20",
                                    "Location": "456 Elm St, Townsville",
                                    "Description": "Investigation into a murder case",
                                    "Status": "Under Investigation"
                                }
                            ]
                        },
                        "text/html": [
                            "<table>",
                            "<tr><th>CrimeID</th><th>IncidentType</th><th>IncidentDate</th><th>Location</th><th>Description</th><th>Status</th></tr>",
                            "<tr><td>1</td><td>Robbery</td><td>2023-09-15</td><td>123 Main St, Cityville</td><td>Armed robbery at a convenience store</td><td>Open</td></tr>",
                            "<tr><td>2</td><td>Homicide</td><td>2023-09-20</td><td>456 Elm St, Townsville</td><td>Investigation into a murder case</td><td>Under Investigation</td></tr>",
                            "</table>"
                        ]
                    }
                }
            ],
            "execution_count": 60
        },
        {
            "cell_type": "code",
            "source": [
                "-- question19: Show all incidents and suspects, return ‘No Suspect’ \n",
                "select c.CrimeID, c.IncidentType, c.Location, s.Name as SuspectName\n",
                "from Crime c\n",
                "left join Suspect s ON c.CrimeID = s.CrimeID;\n",
                ""
            ],
            "metadata": {
                "language": "sql",
                "azdata_cell_guid": "ce47cf90-8e35-423b-a185-d2570264ed1a"
            },
            "outputs": [
                {
                    "output_type": "display_data",
                    "data": {
                        "text/html": "(3 rows affected)"
                    },
                    "metadata": {}
                },
                {
                    "output_type": "display_data",
                    "data": {
                        "text/html": "Total execution time: 00:00:00.007"
                    },
                    "metadata": {}
                },
                {
                    "output_type": "execute_result",
                    "metadata": {},
                    "execution_count": 61,
                    "data": {
                        "application/vnd.dataresource+json": {
                            "schema": {
                                "fields": [
                                    {
                                        "name": "CrimeID"
                                    },
                                    {
                                        "name": "IncidentType"
                                    },
                                    {
                                        "name": "Location"
                                    },
                                    {
                                        "name": "SuspectName"
                                    }
                                ]
                            },
                            "data": [
                                {
                                    "CrimeID": "1",
                                    "IncidentType": "Robbery",
                                    "Location": "123 Main St, Cityville",
                                    "SuspectName": "Robber 1"
                                },
                                {
                                    "CrimeID": "2",
                                    "IncidentType": "Homicide",
                                    "Location": "456 Elm St, Townsville",
                                    "SuspectName": "Unknown"
                                },
                                {
                                    "CrimeID": "3",
                                    "IncidentType": "Theft",
                                    "Location": "789 Oak St, Villagetown",
                                    "SuspectName": "Suspect 1"
                                }
                            ]
                        },
                        "text/html": [
                            "<table>",
                            "<tr><th>CrimeID</th><th>IncidentType</th><th>Location</th><th>SuspectName</th></tr>",
                            "<tr><td>1</td><td>Robbery</td><td>123 Main St, Cityville</td><td>Robber 1</td></tr>",
                            "<tr><td>2</td><td>Homicide</td><td>456 Elm St, Townsville</td><td>Unknown</td></tr>",
                            "<tr><td>3</td><td>Theft</td><td>789 Oak St, Villagetown</td><td>Suspect 1</td></tr>",
                            "</table>"
                        ]
                    }
                }
            ],
            "execution_count": 61
        },
        {
            "cell_type": "code",
            "source": [
                "-- q20. List all suspects involved in ‘Robbery’ or ‘Assault’ incidents\n",
                "\n",
                "select s.* \n",
                "from Suspect s \n",
                "join Crime c on s.CrimeID = c.CrimeId \n",
                "where c.IncidentType in ('Robbery', 'Assault');\n",
                ""
            ],
            "metadata": {
                "language": "sql",
                "azdata_cell_guid": "66a9b645-7be4-4b24-ab87-db515140b58f"
            },
            "outputs": [
                {
                    "output_type": "display_data",
                    "data": {
                        "text/html": "(1 row affected)"
                    },
                    "metadata": {}
                },
                {
                    "output_type": "display_data",
                    "data": {
                        "text/html": "Total execution time: 00:00:00.004"
                    },
                    "metadata": {}
                },
                {
                    "output_type": "execute_result",
                    "metadata": {},
                    "execution_count": 62,
                    "data": {
                        "application/vnd.dataresource+json": {
                            "schema": {
                                "fields": [
                                    {
                                        "name": "SuspectID"
                                    },
                                    {
                                        "name": "CrimeID"
                                    },
                                    {
                                        "name": "Name"
                                    },
                                    {
                                        "name": "Description"
                                    },
                                    {
                                        "name": "CriminalHistory"
                                    },
                                    {
                                        "name": "Age"
                                    }
                                ]
                            },
                            "data": [
                                {
                                    "SuspectID": "1",
                                    "CrimeID": "1",
                                    "Name": "Robber 1",
                                    "Description": "Armed and masked robber",
                                    "CriminalHistory": "Previous robbery convictions",
                                    "Age": "NULL"
                                }
                            ]
                        },
                        "text/html": [
                            "<table>",
                            "<tr><th>SuspectID</th><th>CrimeID</th><th>Name</th><th>Description</th><th>CriminalHistory</th><th>Age</th></tr>",
                            "<tr><td>1</td><td>1</td><td>Robber 1</td><td>Armed and masked robber</td><td>Previous robbery convictions</td><td>NULL</td></tr>",
                            "</table>"
                        ]
                    }
                }
            ],
            "execution_count": 62
        }
    ]
}